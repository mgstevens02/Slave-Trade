{
  "nbformat": 4,
  "nbformat_minor": 0,
  "metadata": {
    "colab": {
      "provenance": [],
      "authorship_tag": "ABX9TyPa+tfZTvJwhlr6jgznBWSR",
      "include_colab_link": true
    },
    "kernelspec": {
      "name": "python3",
      "display_name": "Python 3"
    },
    "language_info": {
      "name": "python"
    }
  },
  "cells": [
    {
      "cell_type": "markdown",
      "metadata": {
        "id": "view-in-github",
        "colab_type": "text"
      },
      "source": [
        "<a href=\"https://colab.research.google.com/github/mgstevens02/Slave-Trade/blob/main/IV_Group_Project.ipynb\" target=\"_parent\"><img src=\"https://colab.research.google.com/assets/colab-badge.svg\" alt=\"Open In Colab\"/></a>"
      ]
    },
    {
      "cell_type": "code",
      "execution_count": 1,
      "metadata": {
        "id": "soWwYNwe2NTJ",
        "colab": {
          "base_uri": "https://localhost:8080/"
        },
        "outputId": "64625ca7-20f8-47e6-b133-36af6b6b81ba"
      },
      "outputs": [
        {
          "output_type": "stream",
          "name": "stdout",
          "text": [
            "Mounted at /content/drive\n",
            "Collecting econml\n",
            "  Downloading econml-0.15.0-cp310-cp310-manylinux_2_17_x86_64.manylinux2014_x86_64.whl (4.5 MB)\n",
            "\u001b[2K     \u001b[90m━━━━━━━━━━━━━━━━━━━━━━━━━━━━━━━━━━━━━━━━\u001b[0m \u001b[32m4.5/4.5 MB\u001b[0m \u001b[31m5.8 MB/s\u001b[0m eta \u001b[36m0:00:00\u001b[0m\n",
            "\u001b[?25hRequirement already satisfied: numpy in /usr/local/lib/python3.10/dist-packages (from econml) (1.25.2)\n",
            "Requirement already satisfied: scipy>1.4.0 in /usr/local/lib/python3.10/dist-packages (from econml) (1.11.4)\n",
            "Requirement already satisfied: scikit-learn<1.5,>=1.0 in /usr/local/lib/python3.10/dist-packages (from econml) (1.2.2)\n",
            "Collecting sparse (from econml)\n",
            "  Downloading sparse-0.15.1-py2.py3-none-any.whl (116 kB)\n",
            "\u001b[2K     \u001b[90m━━━━━━━━━━━━━━━━━━━━━━━━━━━━━━━━━━━━━━━━\u001b[0m \u001b[32m116.3/116.3 kB\u001b[0m \u001b[31m14.4 MB/s\u001b[0m eta \u001b[36m0:00:00\u001b[0m\n",
            "\u001b[?25hRequirement already satisfied: joblib>=0.13.0 in /usr/local/lib/python3.10/dist-packages (from econml) (1.3.2)\n",
            "Requirement already satisfied: statsmodels>=0.10 in /usr/local/lib/python3.10/dist-packages (from econml) (0.14.1)\n",
            "Requirement already satisfied: pandas>1.0 in /usr/local/lib/python3.10/dist-packages (from econml) (1.5.3)\n",
            "Collecting shap<0.44.0,>=0.38.1 (from econml)\n",
            "  Downloading shap-0.43.0-cp310-cp310-manylinux_2_12_x86_64.manylinux2010_x86_64.manylinux_2_17_x86_64.manylinux2014_x86_64.whl (532 kB)\n",
            "\u001b[2K     \u001b[90m━━━━━━━━━━━━━━━━━━━━━━━━━━━━━━━━━━━━━━━━\u001b[0m \u001b[32m532.9/532.9 kB\u001b[0m \u001b[31m12.7 MB/s\u001b[0m eta \u001b[36m0:00:00\u001b[0m\n",
            "\u001b[?25hRequirement already satisfied: lightgbm in /usr/local/lib/python3.10/dist-packages (from econml) (4.1.0)\n",
            "Requirement already satisfied: python-dateutil>=2.8.1 in /usr/local/lib/python3.10/dist-packages (from pandas>1.0->econml) (2.8.2)\n",
            "Requirement already satisfied: pytz>=2020.1 in /usr/local/lib/python3.10/dist-packages (from pandas>1.0->econml) (2023.4)\n",
            "Requirement already satisfied: threadpoolctl>=2.0.0 in /usr/local/lib/python3.10/dist-packages (from scikit-learn<1.5,>=1.0->econml) (3.4.0)\n",
            "Requirement already satisfied: tqdm>=4.27.0 in /usr/local/lib/python3.10/dist-packages (from shap<0.44.0,>=0.38.1->econml) (4.66.2)\n",
            "Requirement already satisfied: packaging>20.9 in /usr/local/lib/python3.10/dist-packages (from shap<0.44.0,>=0.38.1->econml) (24.0)\n",
            "Collecting slicer==0.0.7 (from shap<0.44.0,>=0.38.1->econml)\n",
            "  Downloading slicer-0.0.7-py3-none-any.whl (14 kB)\n",
            "Requirement already satisfied: numba in /usr/local/lib/python3.10/dist-packages (from shap<0.44.0,>=0.38.1->econml) (0.58.1)\n",
            "Requirement already satisfied: cloudpickle in /usr/local/lib/python3.10/dist-packages (from shap<0.44.0,>=0.38.1->econml) (2.2.1)\n",
            "Requirement already satisfied: patsy>=0.5.4 in /usr/local/lib/python3.10/dist-packages (from statsmodels>=0.10->econml) (0.5.6)\n",
            "Requirement already satisfied: llvmlite<0.42,>=0.41.0dev0 in /usr/local/lib/python3.10/dist-packages (from numba->shap<0.44.0,>=0.38.1->econml) (0.41.1)\n",
            "Requirement already satisfied: six in /usr/local/lib/python3.10/dist-packages (from patsy>=0.5.4->statsmodels>=0.10->econml) (1.16.0)\n",
            "Installing collected packages: slicer, sparse, shap, econml\n",
            "Successfully installed econml-0.15.0 shap-0.43.0 slicer-0.0.7 sparse-0.15.1\n",
            "Requirement already satisfied: pandas in /usr/local/lib/python3.10/dist-packages (1.5.3)\n",
            "Requirement already satisfied: python-dateutil>=2.8.1 in /usr/local/lib/python3.10/dist-packages (from pandas) (2.8.2)\n",
            "Requirement already satisfied: pytz>=2020.1 in /usr/local/lib/python3.10/dist-packages (from pandas) (2023.4)\n",
            "Requirement already satisfied: numpy>=1.21.0 in /usr/local/lib/python3.10/dist-packages (from pandas) (1.25.2)\n",
            "Requirement already satisfied: six>=1.5 in /usr/local/lib/python3.10/dist-packages (from python-dateutil>=2.8.1->pandas) (1.16.0)\n",
            "Requirement already satisfied: openpyxl in /usr/local/lib/python3.10/dist-packages (3.1.2)\n",
            "Requirement already satisfied: et-xmlfile in /usr/local/lib/python3.10/dist-packages (from openpyxl) (1.1.0)\n",
            "Requirement already satisfied: numpy in /usr/local/lib/python3.10/dist-packages (1.25.2)\n",
            "Requirement already satisfied: scikit-learn in /usr/local/lib/python3.10/dist-packages (1.2.2)\n",
            "Requirement already satisfied: numpy>=1.17.3 in /usr/local/lib/python3.10/dist-packages (from scikit-learn) (1.25.2)\n",
            "Requirement already satisfied: scipy>=1.3.2 in /usr/local/lib/python3.10/dist-packages (from scikit-learn) (1.11.4)\n",
            "Requirement already satisfied: joblib>=1.1.1 in /usr/local/lib/python3.10/dist-packages (from scikit-learn) (1.3.2)\n",
            "Requirement already satisfied: threadpoolctl>=2.0.0 in /usr/local/lib/python3.10/dist-packages (from scikit-learn) (3.4.0)\n"
          ]
        }
      ],
      "source": [
        "#Loading Data- Must have the excel file uploaded to your 'My Drive'\n",
        "\n",
        "from google.colab import drive\n",
        "drive.mount('/content/drive')\n",
        "\n",
        "import pandas as pd\n",
        "\n",
        "# Replace 'path_to_your_file' with the actual path to your CSV file in Google Drive\n",
        "file_path = '/content/drive/My Drive/slave_trade_QJE_updated.xlsx'\n",
        "\n",
        "# Read the CSV file into a DataFrame\n",
        "data = pd.read_excel(file_path)\n",
        "\n",
        "# Install required packages\n",
        "!pip install econml\n",
        "!pip install pandas\n",
        "!pip install openpyxl\n",
        "!pip install numpy\n",
        "!pip install scikit-learn\n",
        "\n",
        "import pandas as pd\n",
        "from sklearn.model_selection import train_test_split\n",
        "\n",
        "# Load the dataset\n",
        "df = pd.read_excel('/content/drive/My Drive/slave_trade_QJE_updated.xlsx')"
      ]
    },
    {
      "cell_type": "code",
      "source": [
        "#Examining relationship between slave trade exposure and economic performance- Linear or nonlinear?\n",
        "\n",
        "import pandas as pd\n",
        "import matplotlib.pyplot as plt\n",
        "\n",
        "# Load the dataset\n",
        "df = pd.read_excel('/content/drive/My Drive/slave_trade_QJE_updated.xlsx')\n",
        "\n",
        "# Scatter plot\n",
        "plt.figure(figsize=(10, 6))\n",
        "plt.scatter(df['ln_export_area'], df['ln_maddison_pcgdp2000'], color='hotpink', alpha=0.6)\n",
        "plt.xlabel('ln_export_area')\n",
        "plt.ylabel('ln_maddison_pcgdp2000')\n",
        "plt.title('Relationship between Slave Trade Exposure and Economic Performance'\n",
        ")\n",
        "plt.grid(True)\n",
        "plt.show()"
      ],
      "metadata": {
        "id": "9yb0g0Jjsfzh",
        "colab": {
          "base_uri": "https://localhost:8080/",
          "height": 564
        },
        "outputId": "219a0ab2-b550-411e-a0da-8f8da338824b"
      },
      "execution_count": 19,
      "outputs": [
        {
          "output_type": "display_data",
          "data": {
            "text/plain": [
              "<Figure size 1000x600 with 1 Axes>"
            ],
            "image/png": "[encoded data removed]"
          },
          "metadata": {}
        }
      ]
    },
    {
      "cell_type": "code",
      "source": [
        "#First Stage- predicting the slave exports using interaction terms\n",
        "\n",
        "from sklearn.ensemble import GradientBoostingRegressor\n",
        "from sklearn.model_selection import train_test_split\n",
        "from sklearn.preprocessing import StandardScaler\n",
        "\n",
        "instruments = [\n",
        "    'atlantic_distance_minimum',\n",
        "    'indian_distance_minimum',\n",
        "    'saharan_distance_minimum',\n",
        "    'red_sea_distance_minimum',\n",
        "]\n",
        "interactions = [\n",
        "    'atlantic_distance_minimum_region_n_interaction',\n",
        "    'atlantic_distance_minimum_region_s_interaction',\n",
        "    'atlantic_distance_minimum_region_w_interaction',\n",
        "    'atlantic_distance_minimum_region_e_interaction',\n",
        "    'atlantic_distance_minimum_region_c_interaction',\n",
        "    'indian_distance_minimum_region_n_interaction',\n",
        "    'indian_distance_minimum_region_s_interaction',\n",
        "    'indian_distance_minimum_region_w_interaction',\n",
        "    'indian_distance_minimum_region_e_interaction',\n",
        "    'indian_distance_minimum_region_c_interaction',\n",
        "    'saharan_distance_minimum_region_n_interaction',\n",
        "    'saharan_distance_minimum_region_s_interaction',\n",
        "    'saharan_distance_minimum_region_w_interaction',\n",
        "    'saharan_distance_minimum_region_e_interaction',\n",
        "    'saharan_distance_minimum_region_c_interaction',\n",
        "    'red_sea_distance_minimum_region_n_interaction',\n",
        "    'red_sea_distance_minimum_region_s_interaction',\n",
        "    'red_sea_distance_minimum_region_w_interaction',\n",
        "    'red_sea_distance_minimum_region_e_interaction',\n",
        "    'red_sea_distance_minimum_region_c_interaction'\n",
        "]\n",
        "\n",
        "instruments_and_interactions = instruments + interactions\n",
        "\n",
        "# Define your features (instruments and interaction terms) and the target (treatment)\n",
        "X_stage1 = df[instruments_and_interactions]\n",
        "y_stage1 = df['ln_export_area']\n",
        "\n",
        "# Standardize features\n",
        "scaler = StandardScaler()\n",
        "X_stage1_scaled = scaler.fit_transform(X_stage1)\n",
        "\n",
        "# Split the data for the first stage\n",
        "X_train_stage1, X_test_stage1, y_train_stage1, y_test_stage1 = train_test_split(X_stage1_scaled, y_stage1, test_size=0.2, random_state=42)\n",
        "\n",
        "# Initialize and fit the regression model\n",
        "regressor_stage1 = GradientBoostingRegressor(n_estimators=200, max_depth=3, random_state=123)\n",
        "regressor_stage1.fit(X_train_stage1, y_train_stage1)\n",
        "\n",
        "# Predict 'ln_export_area' using the trained model\n",
        "predicted_ln_export_area = regressor_stage1.predict(X_stage1_scaled)  # Use on full dataset for stage 2\n",
        "\n",
        "print(regressor_stage1.predict(X_stage1_scaled))"
      ],
      "metadata": {
        "id": "_aAr8cDRskmO",
        "colab": {
          "base_uri": "https://localhost:8080/"
        },
        "outputId": "010c109a-10ab-43ee-ffbb-3a396c9f9dfb"
      },
      "execution_count": 3,
      "outputs": [
        {
          "output_type": "stream",
          "name": "stdout",
          "text": [
            "[ 7.93676491  1.16300774  8.30349459  8.35682447 -2.26635625  4.70462028\n",
            "  5.14652952  4.90734566  5.55293058 -2.22274318 -2.27332916 -1.65734351\n",
            " -0.97069313  1.98958419  7.05504816  4.64947315  8.76896215  8.63390327\n",
            "  7.55833485  5.61527181 -0.94165528  4.96889032  4.12258988  1.63782707\n",
            " -2.26635625 -2.31856852  5.29466366  6.55791495  6.64618182  5.04805726\n",
            " -2.28621256  6.92788526 -2.26635625  2.773533    7.7260909  -2.20910426\n",
            "  5.83317266  7.55822643  6.79551859  3.90427576 -2.28880202 -2.28824404\n",
            " -2.26839972  2.64464549  8.49386468 -2.27160125  6.22476805  5.78271387\n",
            "  0.49183156  5.82910152  2.12745845  1.04218533]\n"
          ]
        }
      ]
    },
    {
      "cell_type": "code",
      "source": [
        "#Second Stage- Estimating the effect of slave exports on economic outcomes BY REGION\n",
        "\n",
        "\n",
        "from sklearn.linear_model import LassoCV\n",
        "from econml.dml import CausalForestDML\n",
        "from sklearn.preprocessing import StandardScaler\n",
        "import pandas as pd\n",
        "\n",
        "\n",
        "\n",
        "\n",
        "controls = ['abs_latitude', 'longitude', 'rain_min', 'humid_max', 'low_temp', 'ln_coastline_area', 'island_dum', 'islam', 'legor_fr', 'ln_avg_oil_pop', 'ln_avg_all_diamonds_pop']\n",
        "\n",
        "features_for_stage2 = controls\n",
        "\n",
        "# Map each region to its corresponding column\n",
        "\n",
        "regions = {\n",
        "    'region_n': 'region_n',\n",
        "    'region_s': 'region_s',\n",
        "    'region_e': 'region_e',\n",
        "    'region_w': 'region_w',\n",
        "    'region_c': 'region_c',\n",
        "}\n",
        "\n",
        "region_specific_models = {}\n",
        "\n",
        "for region_name, region_col in regions.items():\n",
        "    # Filter data for countries in the specific region\n",
        "    df_region = df[df[region_col] == 1]\n",
        "\n",
        "    if not df_region.empty:\n",
        "        # Prepare the feature matrix and outcome variables for the region\n",
        "        X_region = df_region[features_for_stage2]\n",
        "        Y_region = df_region['ln_maddison_pcgdp2000']\n",
        "        T_region = df_region['predicted_ln_export_area']\n",
        "\n",
        "        # Scale features for the region\n",
        "        scaler = StandardScaler()\n",
        "        X_region_scaled = scaler.fit_transform(X_region)\n",
        "\n",
        "        # Initialize and fit the causal forest model for the region\n",
        "        model_y_region = LassoCV(max_iter=10000, cv=5, random_state=123)\n",
        "        model_t_region = LassoCV(max_iter=10000, cv=5, random_state=123)\n",
        "        causal_forest_region = CausalForestDML(model_y=model_y_region, model_t=model_t_region,\n",
        "                                               criterion='mse', n_estimators=100,\n",
        "                                               min_samples_leaf=10, random_state=123)\n",
        "        causal_forest_region.fit(Y=Y_region, T=T_region, X=X_region_scaled)\n",
        "\n",
        "        # Store the fitted model in the dictionary\n",
        "        region_specific_models[region_name] = causal_forest_region\n",
        "    else:\n",
        "        print(f\"No data available for {region_name}, model not fitted.\")"
      ],
      "metadata": {
        "colab": {
          "base_uri": "https://localhost:8080/"
        },
        "id": "Z_jN-SOs52V4",
        "outputId": "0c6eec02-e1b3-4491-e821-dde9120c050e"
      },
      "execution_count": 10,
      "outputs": [
        {
          "output_type": "stream",
          "name": "stderr",
          "text": [
            "Model LassoCV(cv=5, max_iter=10000, random_state=123) has a non-default cv attribute, which will be ignored\n",
            "Model LassoCV(cv=5, max_iter=10000, random_state=123) has a non-default cv attribute, which will be ignored\n",
            "Model LassoCV(cv=5, max_iter=10000, random_state=123) has a non-default cv attribute, which will be ignored\n",
            "Model LassoCV(cv=5, max_iter=10000, random_state=123) has a non-default cv attribute, which will be ignored\n",
            "Objective did not converge. You might want to increase the number of iterations, check the scale of the features or consider increasing regularisation. Duality gap: 5.839e-03, tolerance: 5.304e-03\n",
            "Objective did not converge. You might want to increase the number of iterations, check the scale of the features or consider increasing regularisation. Duality gap: 1.421e-02, tolerance: 5.815e-03\n",
            "Model LassoCV(cv=5, max_iter=10000, random_state=123) has a non-default cv attribute, which will be ignored\n",
            "Model LassoCV(cv=5, max_iter=10000, random_state=123) has a non-default cv attribute, which will be ignored\n",
            "Model LassoCV(cv=5, max_iter=10000, random_state=123) has a non-default cv attribute, which will be ignored\n",
            "Model LassoCV(cv=5, max_iter=10000, random_state=123) has a non-default cv attribute, which will be ignored\n",
            "Model LassoCV(cv=5, max_iter=10000, random_state=123) has a non-default cv attribute, which will be ignored\n",
            "Model LassoCV(cv=5, max_iter=10000, random_state=123) has a non-default cv attribute, which will be ignored\n"
          ]
        }
      ]
    },
    {
      "cell_type": "code",
      "source": [
        "#Calculate ATE for each region\n",
        "\n",
        "\n",
        "# Initialize a dictionary to store the ATE for each region\n",
        "ate_by_region = {}\n",
        "\n",
        "for region_name, model in region_specific_models.items():\n",
        "    # Select the data for the current region\n",
        "    df_region = df[df[regions[region_name]] == 1]\n",
        "\n",
        "    # Check if the region's dataframe is not empty\n",
        "    if not df_region.empty:\n",
        "        X_region = df_region[features_for_stage2]\n",
        "\n",
        "        # Scale features for the region\n",
        "        scaler = StandardScaler()\n",
        "        X_region_scaled = scaler.fit_transform(X_region)\n",
        "\n",
        "        # Calculate the estimated treatment effects for the region\n",
        "        treatment_effects_region = model.effect(X_region_scaled)\n",
        "\n",
        "        # Calculate the average treatment effect for the region\n",
        "        ate_region = treatment_effects_region.mean()\n",
        "\n",
        "        # Store the ATE in the dictionary\n",
        "        ate_by_region[region_name] = ate_region\n",
        "    else:\n",
        "        ate_by_region[region_name] = None  # No data available for this region\n",
        "\n",
        "# Print the ATE for each region\n",
        "for region, ate in ate_by_region.items():\n",
        "    if ate is not None:\n",
        "        print(f\"Average Treatment Effect for {region}: {ate:.4f}\")\n",
        "    else:\n",
        "        print(f\"Data not available for {region}, ATE not calculated.\")"
      ],
      "metadata": {
        "colab": {
          "base_uri": "https://localhost:8080/"
        },
        "id": "Kbgrl8w36Mnc",
        "outputId": "d0870a29-1260-495e-8c73-62dbbf537720"
      },
      "execution_count": 11,
      "outputs": [
        {
          "output_type": "stream",
          "name": "stdout",
          "text": [
            "Average Treatment Effect for region_n: -0.0728\n",
            "Average Treatment Effect for region_s: -0.1591\n",
            "Average Treatment Effect for region_e: -0.1288\n",
            "Average Treatment Effect for region_w: -0.0253\n",
            "Average Treatment Effect for region_c: -0.0178\n"
          ]
        }
      ]
    },
    {
      "cell_type": "code",
      "source": [
        "#Graph ATE Across regions\n",
        "\n",
        "# Assuming the same ate_by_region dictionary for ATE values\n",
        "ate_by_region = {\n",
        "    'region_n': -0.0728,\n",
        "    'region_s': -0.1591,\n",
        "    'region_e': -0.1288,\n",
        "    'region_w': -0.0253,\n",
        "    'region_c': -0.0178\n",
        "}\n",
        "\n",
        "# Extract regions and their ATE values for plotting\n",
        "regions = list(ate_by_region.keys())\n",
        "ate_values = list(ate_by_region.values())\n",
        "\n",
        "# Convert region labels into numerical values for scatter plot\n",
        "region_indices = range(len(regions))\n",
        "\n",
        "# Create the scatter plot\n",
        "plt.figure(figsize=(8, 5))\n",
        "plt.scatter(region_indices, ate_values, color='hotpink')\n",
        "\n",
        "# Add labels for each region below the x-axis\n",
        "plt.xticks(region_indices, regions)\n",
        "\n",
        "# Adding a horizontal line at y=0 for reference\n",
        "plt.axhline(0, color='grey', linestyle='--')\n",
        "\n",
        "# Adding labels and title\n",
        "plt.xlabel('Regions')\n",
        "plt.ylabel('Average Treatment Effect (ATE)')\n",
        "plt.title('ATE Across Regions')\n",
        "\n",
        "plt.show()\n",
        "\n",
        "\n",
        "\n"
      ],
      "metadata": {
        "colab": {
          "base_uri": "https://localhost:8080/",
          "height": 487
        },
        "id": "_uf_Ejec6s2e",
        "outputId": "472df75a-d6b5-4cab-8145-808d01d603d2"
      },
      "execution_count": 18,
      "outputs": [
        {
          "output_type": "display_data",
          "data": {
            "text/plain": [
              "<Figure size 800x500 with 1 Axes>"
            ],
            "image/png": "[encoded data removed]"
          },
          "metadata": {}
        }
      ]
    },
    {
      "cell_type": "code",
      "source": [
        "#Second Stage- Estimating the effect of slave exports on economic outcomes OVERALL\n",
        "\n",
        "from sklearn.linear_model import LassoCV\n",
        "from econml.dml import CausalForestDML\n",
        "from sklearn.preprocessing import StandardScaler\n",
        "import pandas as pd\n",
        "\n",
        "controls = ['abs_latitude', 'longitude', 'rain_min', 'humid_max', 'low_temp', 'ln_coastline_area', 'island_dum', 'islam', 'legor_fr', 'ln_avg_oil_pop', 'ln_avg_all_diamonds_pop']\n",
        "\n",
        "features_for_stage2 = controls\n",
        "\n",
        "#Using predicted values from First Stafe\n",
        "df['predicted_ln_export_area'] = predicted_ln_export_area\n",
        "\n",
        "\n",
        "# Prepare your feature matrix X_stage2 including controls\n",
        "X_stage2 = df[features_for_stage2]\n",
        "\n",
        "#Define Y_stage2 and T_stage2\n",
        "Y_stage2= df['ln_maddison_pcgdp2000']\n",
        "T_stage2= df['predicted_ln_export_area']\n",
        "\n",
        "# Scale features prior to using Lasso\n",
        "scaler = StandardScaler()\n",
        "X_stage2_scaled = scaler.fit_transform(X_stage2)\n",
        "\n",
        "# Initialize your causal forest model with LassoCV models for both outcome and treatment models\n",
        "model_y = LassoCV(max_iter=10000, cv=5, random_state=123)\n",
        "model_t = LassoCV(max_iter=10000, cv=5, random_state=123)\n",
        "\n",
        "causal_forest_stage2 = CausalForestDML(model_y=model_y, model_t=model_t,\n",
        "                                       criterion='mse', n_estimators=100,\n",
        "                                       min_samples_leaf=10, random_state=123)\n",
        "\n",
        "# Fit the causal forest model using the scaled feature matrix including controls\n",
        "causal_forest_stage2.fit(Y=Y_stage2, T=T_stage2, X=X_stage2_scaled)"
      ],
      "metadata": {
        "id": "dL1o10axtHRM",
        "colab": {
          "base_uri": "https://localhost:8080/"
        },
        "outputId": "11d8bcb5-30bc-44c0-ce5b-bfcbd148a594"
      },
      "execution_count": 23,
      "outputs": [
        {
          "output_type": "stream",
          "name": "stderr",
          "text": [
            "Model LassoCV(cv=5, max_iter=10000, random_state=123) has a non-default cv attribute, which will be ignored\n",
            "Model LassoCV(cv=5, max_iter=10000, random_state=123) has a non-default cv attribute, which will be ignored\n"
          ]
        },
        {
          "output_type": "execute_result",
          "data": {
            "text/plain": [
              "<econml.dml.causal_forest.CausalForestDML at 0x79cbb3fd7a90>"
            ]
          },
          "metadata": {},
          "execution_count": 23
        }
      ]
    },
    {
      "cell_type": "code",
      "source": [
        "#Calculate ATE across ALL OBSERVATIONS\n",
        "\n",
        "import numpy as np\n",
        "\n",
        "# Obtain treatment effect estimates\n",
        "treatment_effects = causal_forest_stage2.effect(X_stage2_scaled)\n",
        "\n",
        "average_treatment_effect = np.mean(treatment_effects)\n",
        "print(f\"Average Treatment Effect: {average_treatment_effect}\")\n",
        "\n",
        "lower, upper = causal_forest_stage2.effect_interval(X_stage2_scaled, alpha=0.05)\n",
        "\n"
      ],
      "metadata": {
        "id": "EjqK2F9ztk_j",
        "colab": {
          "base_uri": "https://localhost:8080/"
        },
        "outputId": "7a9501f5-04c0-40e3-8f18-b590b523c447"
      },
      "execution_count": 13,
      "outputs": [
        {
          "output_type": "stream",
          "name": "stdout",
          "text": [
            "Average Treatment Effect: -0.08162406477815415\n"
          ]
        }
      ]
    }
  ]
}